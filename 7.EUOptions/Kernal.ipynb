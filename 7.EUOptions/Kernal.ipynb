{
 "cells": [
  {
   "cell_type": "code",
   "execution_count": 2,
   "id": "c07f7f53",
   "metadata": {},
   "outputs": [],
   "source": [
    "import numpy as np\n",
    "from chfunction import charfunction\n",
    "from scipy.fft import fft, ifft, fftshift, ifftshift\n",
    "\n",
    "class Kernal:\n",
    "    def kernel(self, ngrid, xmin, xmax, parameters, alpha=0, disc=1, flag=0):\n",
    "        if flag == 0:\n",
    "            disc = 1  # default for backward characteristic function\n",
    "\n",
    "        N = ngrid // 2\n",
    "        dx = (xmax - xmin) / ngrid\n",
    "        x = dx * np.arange(-N, N)\n",
    "        dxi = 2 * np.pi / (xmax - xmin)\n",
    "        xi = dxi * np.arange(-N, N)\n",
    "\n",
    "        H = charfunction(xi + 1j * alpha, parameters, flag)  # characteristic function\n",
    "\n",
    "        if disc == 1:\n",
    "            H = H * np.exp(-parameters['rf'] * parameters['dt'])  # discount\n",
    "\n",
    "        h = np.real(fftshift(fft(ifftshift(H)))) / (xmax - xmin)  # discounted kernel\n",
    "\n",
    "        return x, h, xi, H\n",
    "\n",
    "    # Include the charfunction function here\n",
    "\n",
    "    # Example usage: #\n",
    "    # parameters = {'rf': 0.05, 'dt': 0.1}\n",
    "    # x, h, xi, H = kernel(256, -5, 5, parameters, alpha=0, disc=1, flag=0)\n"
   ]
  },
  {
   "cell_type": "code",
   "execution_count": null,
   "id": "0b19d269",
   "metadata": {},
   "outputs": [],
   "source": []
  }
 ],
 "metadata": {
  "kernelspec": {
   "display_name": "Python 3 (ipykernel)",
   "language": "python",
   "name": "python3"
  },
  "language_info": {
   "codemirror_mode": {
    "name": "ipython",
    "version": 3
   },
   "file_extension": ".py",
   "mimetype": "text/x-python",
   "name": "python",
   "nbconvert_exporter": "python",
   "pygments_lexer": "ipython3",
   "version": "3.12.0"
  }
 },
 "nbformat": 4,
 "nbformat_minor": 5
}
